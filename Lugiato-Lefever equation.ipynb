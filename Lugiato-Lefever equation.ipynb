{
 "cells": [
  {
   "cell_type": "code",
   "execution_count": 19,
   "id": "6d2f0c69",
   "metadata": {},
   "outputs": [],
   "source": [
    "import numpy as np \n",
    "import matplotlib.pyplot as plt\n",
    "from scipy.integrate import complex_ode\n",
    "from scipy.integrate import ode\n",
    "from scipy.integrate import odeint\n",
    "from scipy.linalg import circulant\n",
    "mode_index = np.arange(-40,41,1,int)\n",
    "simulation_time = np.arange(0,16,1,int)"
   ]
  },
  {
   "cell_type": "code",
   "execution_count": 20,
   "id": "fedaa042",
   "metadata": {},
   "outputs": [
    {
     "name": "stdout",
     "output_type": "stream",
     "text": [
      "[[0. 1. 0. 0. 1.]\n",
      " [1. 0. 1. 0. 0.]\n",
      " [0. 1. 0. 1. 0.]\n",
      " [0. 0. 1. 0. 1.]\n",
      " [1. 0. 0. 1. 0.]]\n",
      "[0. 0. 2. 3. 0.]\n",
      "[0. 2. 3. 2. 3.]\n",
      "[-40. -39. -38. -37. -36. -35. -34. -33. -32. -31. -30. -29. -28. -27.\n",
      " -26. -25. -24. -23. -22. -21. -20. -19. -18. -17. -16. -15. -14. -13.\n",
      " -12. -11. -10.  -9.  -8.  -7.  -6.  -5.  -4.  -3.  -2.  -1.   0.   1.\n",
      "   2.   3.   4.   5.   6.   7.   8.   9.  10.  11.  12.  13.  14.  15.\n",
      "  16.  17.  18.  19.  20.  21.  22.  23.  24.  25.  26.  27.  28.  29.\n",
      "  30.  31.  32.  33.  34.  35.  36.  37.  38.  39.  40.]\n",
      "(81,)\n"
     ]
    }
   ],
   "source": [
    "y = np.zeros(5)\n",
    "y[1] = y[4] =1\n",
    "Y = circulant(y)\n",
    "print (Y)\n",
    "x = np.zeros(5)\n",
    "x[3] = 3\n",
    "x[2] = 2\n",
    "print (x)\n",
    "print (x@Y)\n",
    "\n",
    "\n",
    "i_ind = np.zeros(81)\n",
    "for i in range (i_ind.size):\n",
    "    i_ind[i] = i-40\n",
    "print (i_ind)\n",
    "print ((i_ind*i_ind).shape)\n",
    "\n",
    "\n",
    "#if (abs(i_ind[j]+ i_ind[k]- i_ind[i])<=40):"
   ]
  },
  {
   "cell_type": "markdown",
   "id": "7a5b8fbb",
   "metadata": {},
   "source": [
    "# 1. Dispersion + Coupling"
   ]
  },
  {
   "cell_type": "markdown",
   "id": "4b98c3e4",
   "metadata": {},
   "source": [
    "Original condition: a_0 = 1. The following codes solve the ODEs consisting of 80 model indexs coming from the LLE."
   ]
  },
  {
   "cell_type": "code",
   "execution_count": 21,
   "id": "c8a4e787",
   "metadata": {},
   "outputs": [
    {
     "data": {
      "image/png": "[encoded data removed]",
      "text/plain": [
       "<Figure size 432x288 with 2 Axes>"
      ]
     },
     "metadata": {
      "needs_background": "light"
     },
     "output_type": "display_data"
    }
   ],
   "source": [
    "temp = np.zeros(81)\n",
    "temp[1] = temp[80] =1.7\n",
    "J = circulant(temp)\n",
    "\n",
    "i_ind = np.zeros(81)\n",
    "for i in range (i_ind.size):\n",
    "    i_ind[i] = i-40\n",
    "\n",
    "    \n",
    "def lle_dis_cou (t,a):\n",
    "    #da = np.array([complex(0, 0) for i in range(81)])\n",
    "    da = 1j * 0.01 * (i_ind*i_ind) * a + 1j * J @ a\n",
    "    return da\n",
    "\n",
    "#a_initial = np.zeros(81)\n",
    "\n",
    "a_initial = np.array([complex(0, 0) for i in range(81)])\n",
    "a_initial[40] +=1 \n",
    "t = np.linspace(0, 11, 1000)\n",
    "\n",
    "r = complex_ode(lle_dis_cou)\n",
    "r.set_initial_value(a_initial, 0)\n",
    "\n",
    "t1 = 12\n",
    "dt=0.001\n",
    "\n",
    "tt = []\n",
    "aaa = []\n",
    "\n",
    "while r.successful() and r.t < t1:\n",
    "    x = r.t+dt\n",
    "    y = r.integrate(x)\n",
    "    aaa.append (y)\n",
    "    tt.append (x)\n",
    "\n",
    "aaa_amp = np.zeros((len(aaa),len(aaa[0])))\n",
    "for i in range (len(aaa)):\n",
    "    for j in range (len(aaa[0])):\n",
    "        aaa_amp[i][j] = abs(aaa[i][j])\n",
    "\n",
    "        \n",
    "p1 = plt.pcolormesh(aaa_amp, cmap='hot')\n",
    "plt.colorbar(p1)\n",
    "plt.title('Dispersion + Coupling')\n",
    "plt.xlabel('mode index')\n",
    "plt.ylabel('simulation time (ms)')\n",
    "plt.show()"
   ]
  },
  {
   "cell_type": "markdown",
   "id": "830ec3c3",
   "metadata": {
    "scrolled": true
   },
   "source": [
    "# 2. Nonlinearity"
   ]
  },
  {
   "cell_type": "code",
   "execution_count": 22,
   "id": "477dde55",
   "metadata": {},
   "outputs": [
    {
     "name": "stdout",
     "output_type": "stream",
     "text": [
      "121\n",
      "81\n"
     ]
    }
   ],
   "source": [
    "g = 0.1\n",
    "\n",
    "i_ind = np.zeros(81)\n",
    "for i in range (i_ind.size):\n",
    "    i_ind[i] = i-40\n",
    "\n",
    "\n",
    "def lle_nonlinear (t,a):\n",
    "    da = np.array([complex(0, 0) for i in range(81)])\n",
    "    for i in range (len(da)):\n",
    "        for j in range (len(da)):\n",
    "            for k in range (len(da)):\n",
    "                if (0<= j+k-i <=80):\n",
    "                    da[i] = da[i] + 1j* g * a[j] * a[k] * np.conj(a[j+k-i])\n",
    "    return da\n",
    "\n",
    "\n",
    "a_initial = np.array([complex(0, 0) for i in range(81)])\n",
    "a_initial[40] +=1 \n",
    "a_initial[42] +=1 \n",
    "\n",
    "\n",
    "r = complex_ode(lle_nonlinear)\n",
    "r.set_initial_value(a_initial, 0)\n",
    "\n",
    "t1 = 12\n",
    "dt=0.1\n",
    "\n",
    "tt = []\n",
    "aaa = []\n",
    "\n",
    "while r.successful() and r.t < t1:\n",
    "    #print (r.t)\n",
    "    x = r.t+dt\n",
    "    y = r.integrate(x)\n",
    "    aaa.append (y)\n",
    "    tt.append (x)\n",
    "    \n",
    "print (len(aaa))\n",
    "print (len(aaa[0]))\n",
    "aaa_amp_nl = np.zeros((len(aaa),len(aaa[0])))\n",
    "\n",
    "\n",
    "for i in range (len(aaa)):\n",
    "    for j in range (len(aaa[0])):\n",
    "        aaa_amp_nl[i][j] = abs(aaa[i][j])\n",
    "\n",
    "#for i in range (len(aaa_amp)):\n",
    "\n",
    "\n",
    "#print (aaa_amp[:,9])   \n",
    "#print (aaa_amp[:,10])\n",
    "#print (aaa_amp[:,11]) "
   ]
  },
  {
   "cell_type": "code",
   "execution_count": 25,
   "id": "4df5e4de",
   "metadata": {},
   "outputs": [
    {
     "data": {
      "image/png": "[encoded data removed]",
      "text/plain": [
       "<Figure size 432x288 with 2 Axes>"
      ]
     },
     "metadata": {
      "needs_background": "light"
     },
     "output_type": "display_data"
    }
   ],
   "source": [
    "p1 = plt.pcolormesh(aaa_amp_nl, cmap='hot')\n",
    "plt.colorbar(p1)\n",
    "plt.title('Nonlinearity')\n",
    "plt.xlabel('mode index')\n",
    "plt.ylabel('simulation time (ms)')\n",
    "plt.show()"
   ]
  },
  {
   "cell_type": "markdown",
   "id": "057ca08e",
   "metadata": {},
   "source": [
    "# 3. Dispersion + Nonlinearity"
   ]
  },
  {
   "cell_type": "code",
   "execution_count": 26,
   "id": "7962a8ca",
   "metadata": {},
   "outputs": [
    {
     "name": "stdout",
     "output_type": "stream",
     "text": [
      "151\n",
      "81\n"
     ]
    }
   ],
   "source": [
    "g = 0.1\n",
    "\n",
    "i_ind = np.zeros(81)\n",
    "for i in range (i_ind.size):\n",
    "    i_ind[i] = i-40\n",
    "\n",
    "\n",
    "def lle_nonlinear (t,a):\n",
    "    da = 1j * 0.01 * (i_ind*i_ind) * a\n",
    "    for i in range (len(da)):\n",
    "        for j in range (len(da)):\n",
    "            for k in range (len(da)):\n",
    "                if (0<= j+k-i <=80):\n",
    "                    da[i] = da[i] + 1j* g * a[j] * a[k] * np.conj(a[j+k-i])\n",
    "    return da\n",
    "\n",
    "\n",
    "a_initial = np.array([complex(0, 0) for i in range(81)])\n",
    "a_initial[40] +=1 \n",
    "a_initial[42] +=1 \n",
    "\n",
    "\n",
    "r = complex_ode(lle_nonlinear)\n",
    "r.set_initial_value(a_initial, 0)\n",
    "\n",
    "t1 = 15\n",
    "dt=0.1\n",
    "\n",
    "tt = []\n",
    "aaa = []\n",
    "\n",
    "while r.successful() and r.t < t1:\n",
    "    #print (r.t)\n",
    "    x = r.t+dt\n",
    "    y = r.integrate(x)\n",
    "    aaa.append (y)\n",
    "    tt.append (x)\n",
    "    \n",
    "print (len(aaa))\n",
    "print (len(aaa[0]))\n",
    "aaa_amp_dp_nl = np.zeros((len(aaa),len(aaa[0])))\n",
    "\n",
    "\n",
    "for i in range (len(aaa)):\n",
    "    for j in range (len(aaa[0])):\n",
    "        aaa_amp_dp_nl[i][j] = abs(aaa[i][j])\n",
    "\n",
    "#for i in range (len(aaa_amp)):\n",
    "\n",
    "\n",
    "#print (aaa_amp[:,9])   \n",
    "#print (aaa_amp[:,10])\n",
    "#print (aaa_amp[:,11]) "
   ]
  },
  {
   "cell_type": "code",
   "execution_count": 27,
   "id": "f1ad0843",
   "metadata": {
    "scrolled": true
   },
   "outputs": [
    {
     "data": {
      "image/png": "[encoded data removed]",
      "text/plain": [
       "<Figure size 432x288 with 2 Axes>"
      ]
     },
     "metadata": {
      "needs_background": "light"
     },
     "output_type": "display_data"
    }
   ],
   "source": [
    "p1 = plt.pcolormesh(aaa_amp_dp_nl, cmap='hot')\n",
    "plt.colorbar(p1)\n",
    "plt.title('Dispersion + Nonlinearity')\n",
    "plt.xlabel('mode index')\n",
    "plt.ylabel('simulation time (ms)')\n",
    "plt.show()"
   ]
  },
  {
   "cell_type": "markdown",
   "id": "b33e8e49",
   "metadata": {},
   "source": [
    "# 4. All but loss"
   ]
  },
  {
   "cell_type": "code",
   "execution_count": 28,
   "id": "81328518",
   "metadata": {},
   "outputs": [
    {
     "name": "stdout",
     "output_type": "stream",
     "text": [
      "151\n",
      "81\n"
     ]
    }
   ],
   "source": [
    "g = 0.1\n",
    "\n",
    "i_ind = np.zeros(81)\n",
    "for i in range (i_ind.size):\n",
    "    i_ind[i] = i-40\n",
    "\n",
    "\n",
    "def lle_nonlinear (t,a):\n",
    "    da = 1j * 0.01 * (i_ind*i_ind) * a + 1j * J @ a\n",
    "    for i in range (len(da)):\n",
    "        for j in range (len(da)):\n",
    "            for k in range (len(da)):\n",
    "                if (0<= j+k-i <=80):\n",
    "                    da[i] = da[i] + 1j* g * a[j] * a[k] * np.conj(a[j+k-i])\n",
    "    return da\n",
    "\n",
    "\n",
    "a_initial = np.array([complex(0, 0) for i in range(81)])\n",
    "a_initial[40] +=1 \n",
    "a_initial[42] +=1 \n",
    "\n",
    "\n",
    "r = complex_ode(lle_nonlinear)\n",
    "r.set_initial_value(a_initial, 0)\n",
    "\n",
    "t1 = 15\n",
    "dt=0.1\n",
    "\n",
    "tt = []\n",
    "aaa = []\n",
    "\n",
    "while r.successful() and r.t < t1:\n",
    "    #print (r.t)\n",
    "    x = r.t+dt\n",
    "    y = r.integrate(x)\n",
    "    aaa.append (y)\n",
    "    tt.append (x)\n",
    "    \n",
    "print (len(aaa))\n",
    "print (len(aaa[0]))\n",
    "aaa_amp_all = np.zeros((len(aaa),len(aaa[0])))\n",
    "\n",
    "\n",
    "for i in range (len(aaa)):\n",
    "    for j in range (len(aaa[0])):\n",
    "        aaa_amp_all[i][j] = abs(aaa[i][j])\n",
    "\n",
    "#for i in range (len(aaa_amp)):\n",
    "\n",
    "\n",
    "#print (aaa_amp[:,9])   \n",
    "#print (aaa_amp[:,10])\n",
    "#print (aaa_amp[:,11]) "
   ]
  },
  {
   "cell_type": "code",
   "execution_count": 29,
   "id": "8c95069a",
   "metadata": {},
   "outputs": [
    {
     "data": {
      "image/png": "[encoded data removed]",
      "text/plain": [
       "<Figure size 432x288 with 2 Axes>"
      ]
     },
     "metadata": {
      "needs_background": "light"
     },
     "output_type": "display_data"
    }
   ],
   "source": [
    "p1 = plt.pcolormesh(aaa_amp_all, cmap='hot')\n",
    "plt.colorbar(p1)\n",
    "plt.title('All but loss')\n",
    "plt.xlabel('mode index')\n",
    "plt.ylabel('simulation time (ms)')\n",
    "plt.show()"
   ]
  },
  {
   "cell_type": "code",
   "execution_count": null,
   "id": "b35ebb6b",
   "metadata": {},
   "outputs": [],
   "source": []
  },
  {
   "cell_type": "code",
   "execution_count": null,
   "id": "4ff243f6",
   "metadata": {},
   "outputs": [],
   "source": []
  }
 ],
 "metadata": {
  "kernelspec": {
   "display_name": "Python 3 (ipykernel)",
   "language": "python",
   "name": "python3"
  },
  "language_info": {
   "codemirror_mode": {
    "name": "ipython",
    "version": 3
   },
   "file_extension": ".py",
   "mimetype": "text/x-python",
   "name": "python",
   "nbconvert_exporter": "python",
   "pygments_lexer": "ipython3",
   "version": "3.9.12"
  }
 },
 "nbformat": 4,
 "nbformat_minor": 5
}
