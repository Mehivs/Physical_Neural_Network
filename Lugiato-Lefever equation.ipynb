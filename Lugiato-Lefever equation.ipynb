{
 "cells": [
  {
   "cell_type": "code",
   "execution_count": 1,
   "id": "6d2f0c69",
   "metadata": {},
   "outputs": [],
   "source": [
    "import numpy as np \n",
    "import matplotlib.pyplot as plt\n",
    "from scipy.integrate import complex_ode\n",
    "from scipy.integrate import ode\n",
    "from scipy.integrate import odeint\n",
    "mode_index = np.arange(-40,41,1,int)\n",
    "simulation_time = np.arange(0,16,1,int)"
   ]
  },
  {
   "cell_type": "markdown",
   "id": "7a5b8fbb",
   "metadata": {},
   "source": [
    "# 1. Dispersion + Coupling"
   ]
  },
  {
   "cell_type": "markdown",
   "id": "4b98c3e4",
   "metadata": {},
   "source": [
    "Original condition: a_0 = 1. The following codes solve the ODEs consisting of 80 model indexs coming from the LLE."
   ]
  },
  {
   "cell_type": "code",
   "execution_count": 10,
   "id": "c8a4e787",
   "metadata": {},
   "outputs": [
    {
     "data": {
      "image/png": "[encoded data removed]",
      "text/plain": [
       "<Figure size 432x288 with 2 Axes>"
      ]
     },
     "metadata": {
      "needs_background": "light"
     },
     "output_type": "display_data"
    }
   ],
   "source": [
    "z = complex(0,1)\n",
    "def lle_dis_cou (t,a):\n",
    "    da = np.array([complex(0, 0) for i in range(81)])\n",
    "    da[0] = z*a[0]*a[0] + z*1*(a[1])\n",
    "    da[80] = z*a[80]*a[80] + z*1*(a[79])\n",
    "    for i in range (1, 80):\n",
    "        da[i] = z*a[i]*a[i] + z*1*(a[i-1] + a[i+1])\n",
    "    return da\n",
    "\n",
    "#a_initial = np.zeros(81)\n",
    "\n",
    "a_initial = np.array([complex(0, 0) for i in range(81)])\n",
    "a_initial[40] +=1 \n",
    "t = np.linspace(0, 11, 1000)\n",
    "\n",
    "r = ode(lle_dis_cou).set_integrator('zvode', method='bdf')\n",
    "r.set_initial_value(a_initial, 0)\n",
    "\n",
    "t1 = 12\n",
    "dt=0.001\n",
    "\n",
    "tt = []\n",
    "aaa = []\n",
    "while r.successful() and r.t < t1:\n",
    "    x = r.t+dt\n",
    "    y = r.integrate(r.t+dt)\n",
    "    aaa.append (y)\n",
    "    tt.append (x)\n",
    "\n",
    "aaa_amp = np.zeros((len(aaa),len(aaa[0])))\n",
    "for i in range (len(aaa)):\n",
    "    for j in range (len(aaa[0])):\n",
    "        aaa_amp[i][j] = abs(aaa[i][j])\n",
    "\n",
    "p1 = plt.pcolormesh(aaa_amp, cmap='binary')\n",
    "plt.colorbar(p1)\n",
    "plt.title('Dispersion + Coupling')\n",
    "plt.xlabel('mode index')\n",
    "plt.ylabel('simulation time (ms)')\n",
    "plt.show()"
   ]
  },
  {
   "cell_type": "markdown",
   "id": "830ec3c3",
   "metadata": {
    "scrolled": true
   },
   "source": [
    "# 2. Nonlinearity"
   ]
  },
  {
   "cell_type": "code",
   "execution_count": null,
   "id": "477dde55",
   "metadata": {},
   "outputs": [],
   "source": [
    "z = complex(0,1)\n",
    "gamma = 10\n",
    "l = 10\n",
    "tao = 1\n",
    "def lle_nonlinear (t,a):\n",
    "    da = np.array([complex(0, 0) for i in range(81)])\n",
    "    for i in range (len(da)):\n",
    "        for j in range (len(da)):\n",
    "            for k in range (len(da)):\n",
    "                if (j+k-i<=40):\n",
    "                    da[i] += z* gamma * l /tao * a[j] * a[k] * np.conj(a[j+k-i])\n",
    "    return da\n",
    "\n",
    "\n",
    "a_initial = np.array([complex(0, 0) for i in range(81)])\n",
    "a_initial[40] +=1 \n",
    "t = np.linspace(0, 11, 1000)\n",
    "\n",
    "r = ode(lle_nonlinear).set_integrator('zvode', method='bdf')\n",
    "r.set_initial_value(a_initial, 0)\n",
    "\n",
    "t1 = 12\n",
    "dt=0.1\n",
    "\n",
    "tt = []\n",
    "aaa = []\n",
    "while r.successful() and r.t < t1:\n",
    "    x = r.t+dt\n",
    "    y = r.integrate(r.t+dt)\n",
    "    aaa.append (y)\n",
    "    tt.append (x)\n",
    "    \n",
    "print (len(aaa))\n",
    "print (len(aaa[0]))\n",
    "aaa_amp = np.zeros((len(aaa),len(aaa[0])))\n",
    "\n",
    "\n",
    "for i in range (len(aaa)):\n",
    "    for j in range (len(aaa[0])):\n",
    "        aaa_amp[i][j] = abs(aaa[i][j])\n",
    "\n",
    "p1 = plt.pcolormesh(aaa_amp)\n",
    "\n",
    "p1 = plt.pcolormesh(aaa_amp, cmap='binary')\n",
    "plt.colorbar(p1)\n",
    "plt.title('Nonlinearity')\n",
    "plt.xlabel('mode index')\n",
    "plt.ylabel('simulation time (ms)')\n",
    "plt.show()"
   ]
  },
  {
   "cell_type": "markdown",
   "id": "5362424e",
   "metadata": {},
   "source": [
    "# 3. Dispersion + Nonlinearity"
   ]
  },
  {
   "cell_type": "code",
   "execution_count": null,
   "id": "7962a8ca",
   "metadata": {},
   "outputs": [],
   "source": [
    "z = complex(0,1)\n",
    "\n",
    "def lle_Dispersion_nonlinear (t,a):\n",
    "    da = np.array([complex(0, 0) for i in range(81)])\n",
    "    for i in range (len(da)):\n",
    "        for j in range (len(da)):\n",
    "            for k in range (len(da)):\n",
    "                if (j+k-i<=40):\n",
    "                    da[i] += z* gamma * l /tao * a[j] * a[k] * np.conj(a[j+k-i])\n",
    "        da[i] += z*a[i]*a[i]\n",
    "    return da\n",
    "\n",
    "\n",
    "a_initial = np.array([complex(0, 0) for i in range(81)])\n",
    "a_initial[40] +=1 \n",
    "t = np.linspace(0, 11, 1000)\n",
    "\n",
    "r = ode(lle_Dispersion_nonlinear).set_integrator('zvode', method='bdf')\n",
    "r.set_initial_value(a_initial, 0)\n",
    "\n",
    "t1 = 12\n",
    "dt=0.1\n",
    "\n",
    "tt = []\n",
    "aaa = []\n",
    "while r.successful() and r.t < t1:\n",
    "    x = r.t+dt\n",
    "    y = r.integrate(r.t+dt)\n",
    "    aaa.append (y)\n",
    "    tt.append (x)\n",
    "    \n",
    "print (len(aaa))\n",
    "print (len(aaa[0]))\n",
    "aaa_amp = np.zeros((len(aaa),len(aaa[0])))\n",
    "\n",
    "\n",
    "for i in range (len(aaa)):\n",
    "    for j in range (len(aaa[0])):\n",
    "        aaa_amp[i][j] = abs(aaa[i][j])\n",
    "\n",
    "p1 = plt.pcolormesh(aaa_amp)\n",
    "\n",
    "p1 = plt.pcolormesh(aaa_amp, cmap='binary')\n",
    "plt.colorbar(p1)\n",
    "plt.title('Dispersion + Nonlinearity')\n",
    "plt.xlabel('mode index')\n",
    "plt.ylabel('simulation time (ms)')\n",
    "plt.show()"
   ]
  },
  {
   "cell_type": "markdown",
   "id": "1fe9ec9f",
   "metadata": {},
   "source": [
    "# 4. All but loss"
   ]
  },
  {
   "cell_type": "code",
   "execution_count": null,
   "id": "c6ae6dad",
   "metadata": {},
   "outputs": [],
   "source": [
    "z = complex(0,1)\n",
    "\n",
    "def lle_all (t,a):\n",
    "    da = np.array([complex(0, 0) for i in range(81)])\n",
    "    da[0] = z*a[0]*a[0] + z*1*(a[1])\n",
    "    da[80] = z*a[80]*a[80] + z*1*(a[79])\n",
    "    for i in range (1, 80):\n",
    "        da[i] = z*a[i]*a[i] + z*1*(a[i-1] + a[i+1])\n",
    "    for i in range (len(da)):\n",
    "        for j in range (len(da)):\n",
    "            for k in range (len(da)):\n",
    "                if (j+k-i<=40):\n",
    "                    da[i] += z* gamma * l /tao * a[j] * a[k] * np.conj(a[j+k-i])\n",
    "    return da\n",
    "\n",
    "\n",
    "a_initial = np.array([complex(0, 0) for i in range(81)])\n",
    "a_initial[40] +=1 \n",
    "t = np.linspace(0, 11, 1000)\n",
    "\n",
    "r = ode(lle_all).set_integrator('zvode', method='bdf')\n",
    "r.set_initial_value(a_initial, 0)\n",
    "\n",
    "t1 = 12\n",
    "dt=0.1\n",
    "\n",
    "tt = []\n",
    "aaa = []\n",
    "while r.successful() and r.t < t1:\n",
    "    x = r.t+dt\n",
    "    y = r.integrate(r.t+dt)\n",
    "    aaa.append (y)\n",
    "    tt.append (x)\n",
    "    \n",
    "print (len(aaa))\n",
    "print (len(aaa[0]))\n",
    "aaa_amp = np.zeros((len(aaa),len(aaa[0])))\n",
    "\n",
    "\n",
    "for i in range (len(aaa)):\n",
    "    for j in range (len(aaa[0])):\n",
    "        aaa_amp[i][j] = abs(aaa[i][j])\n",
    "\n",
    "p1 = plt.pcolormesh(aaa_amp)\n",
    "\n",
    "p1 = plt.pcolormesh(aaa_amp, cmap='binary')\n",
    "plt.colorbar(p1)\n",
    "plt.title('All but loss')\n",
    "plt.xlabel('mode index')\n",
    "plt.ylabel('simulation time (ms)')\n",
    "plt.show()"
   ]
  },
  {
   "cell_type": "code",
   "execution_count": null,
   "id": "900cdbbc",
   "metadata": {},
   "outputs": [],
   "source": []
  }
 ],
 "metadata": {
  "kernelspec": {
   "display_name": "Python 3",
   "language": "python",
   "name": "python3"
  },
  "language_info": {
   "codemirror_mode": {
    "name": "ipython",
    "version": 3
   },
   "file_extension": ".py",
   "mimetype": "text/x-python",
   "name": "python",
   "nbconvert_exporter": "python",
   "pygments_lexer": "ipython3",
   "version": "3.8.8"
  }
 },
 "nbformat": 4,
 "nbformat_minor": 5
}
